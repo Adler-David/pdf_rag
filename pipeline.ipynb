{
 "cells": [
  {
   "cell_type": "code",
   "execution_count": null,
   "id": "bd66f41d",
   "metadata": {},
   "outputs": [],
   "source": [
    "from src import *\n",
    "from datasets import load_dataset\n",
    "\n",
    "dataset = load_dataset(\"pixparse/pdfa-eng-wds\", streaming=True)\n",
    "small_dataset = dataset[\"train\"].take(2)\n",
    "for doc in small_dataset:\n",
    "    doc_name = doc[\"__key__\"]\n",
    "    pdf_doc = pdf_bytes_to_doc_stream(pdf_bytes=doc['pdf'], doc_name=f'{doc_name}.pdf')\n",
    "    pdf_to_milvus_with_sentence_transformer(pdf=pdf_doc, embedding_model=\"sentence-transformers/all-MiniLM-L6-v2\", collection_name=\"pdfa_eng_wds\")\n",
    "    "
   ]
  },
  {
   "cell_type": "code",
   "execution_count": null,
   "id": "64d1f825",
   "metadata": {},
   "outputs": [],
   "source": [
    "from src import *\n",
    "client = instant_milvus_client(milvus_uri=\"http://localhost:19530\")\n",
    "embedder = instant_sentece_transformer_embedder(\"sentence-transformers/all-MiniLM-L6-v2\")"
   ]
  },
  {
   "cell_type": "code",
   "execution_count": null,
   "id": "09bc93dd",
   "metadata": {},
   "outputs": [],
   "source": [
    "\n",
    "pdf_to_milvus_with_sentence_transformer(pdf=\"https://arxiv.org/pdf/2408.09869\", embedding_model=\"sentence-transformers/all-MiniLM-L6-v2\", collection_name=\"testing\")"
   ]
  }
 ],
 "metadata": {
  "kernelspec": {
   "display_name": "venv",
   "language": "python",
   "name": "python3"
  },
  "language_info": {
   "codemirror_mode": {
    "name": "ipython",
    "version": 3
   },
   "file_extension": ".py",
   "mimetype": "text/x-python",
   "name": "python",
   "nbconvert_exporter": "python",
   "pygments_lexer": "ipython3",
   "version": "3.12.4"
  }
 },
 "nbformat": 4,
 "nbformat_minor": 5
}
